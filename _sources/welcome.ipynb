{
 "cells": [
  {
   "cell_type": "markdown",
   "metadata": {
    "slideshow": {
     "slide_type": "slide"
    }
   },
   "source": [
    "# Welcome\n",
    "\n",
    "\n",
    "```{figure} _static/USydney-logo.jpg\n",
    "---\n",
    "figclass: margin\n",
    "name: margin_figure\n",
    "---\n",
    "```\n",
    "\n",
    "\n",
    "```{figure} _static/grg.png\n",
    "---\n",
    "figclass: margin\n",
    "name: margin_figure\n",
    "---\n",
    "```\n",
    "\n",
    ":::{admonition} Unit content\n",
    ":class: note\n",
    "\n",
    "For this component of the unit, we will use:\n",
    "\n",
    "1. a *learning website* where you will find information relative to the lectures themselves: it contains some **notes**, **videos** and **exercises** for each week,\n",
    "2. a *web-based programming platform* based on **Jupyter Notebook** that contains the materials for the **exercises** and **practicals**.\n",
    "\n",
    ":::\n",
    "\n",
    "\n",
    "> This part of the course focuses on coastal systems analysis using both **ocean data** from a variety of sources (hindcast and forecast data, satellite observations, radar, moored buoys) & **numerical models** of shoreline changes, wave dynamics and coral reef evolution.\n",
    "\n",
    ":::{admonition} The emphasise will be on:\n",
    ":class: attention\n",
    "\n",
    "\n",
    "* **How to query and analyse numerical and ocean data?**\n",
    "* **What can we learn from ocean and wave models on coastal evolution?**\n",
    "* **How to use these models and what are their limitations?**\n",
    ":::\n",
    "\n",
    "```{eval-rst}\n",
    ".. raw:: html\n",
    "\n",
    "    <div style=\"text-align: center; margin-bottom: 2em;\">\n",
    "    <iframe width=\"100%\" height=\"550\"\n",
    "    src=\"https://earth.nullschool.net/#current/ocean/primary/waves/overlay=currents/patterson=153.33,-27.18,1247/loc=151.240,-33.110\"\n",
    "    frameborder=\"0\" allowfullscreen></iframe>\n",
    "    </div>\n",
    "```\n",
    "\n",
    "\n",
    ":::{admonition} Why learning about coding & numerical modelling?\n",
    ":class: important\n",
    "\n",
    "Today, numerical modelling and ocean data query techniques are routinely applied by governmental agencies, companies and research organisations to tackle complex coastal problems. It is based on advanced physical models and engineering approaches designed to describe and observe the connections between ocean dynamics and coastal evolution.\n",
    "\n",
    "\n",
    "Over the last 20 years, major improvements in our understanding of coastal processes have been related to \n",
    "1. easier access to observational dataset and \n",
    "2. improved coastal numerical models. \n",
    "\n",
    "**It is now critical for any graduates to have a sense of how to access these dataset efficiently, how to process them using simple coding tools and how to interpret them**.\n",
    "\n",
    "During this part of the course, we will learn how to do that using web-enabled open source technologies that you will be able to reuse in the future.\n",
    "\n",
    ":::\n",
    "\n",
    "```{figure} _static/jupyter.png\n",
    "---\n",
    "figclass: margin\n",
    "name: margin_figure\n",
    "---\n",
    "```\n",
    "\n",
    ":::{admonition} Online-based teaching\n",
    ":class: attention\n",
    "\n",
    "We will do **computer-based exercises during both lectures and practicals** so you will need to bring an electronic device (preferably a laptop but a tablet with internet access could work). As there will be a lot to cover, it is also recommended to go through each chapter prior to the lecture to be well prepared and able to get the most of it during classes.\n",
    "\n",
    ":::"
   ]
  },
  {
   "cell_type": "code",
   "execution_count": null,
   "metadata": {},
   "outputs": [],
   "source": []
  },
  {
   "cell_type": "code",
   "execution_count": null,
   "metadata": {},
   "outputs": [],
   "source": []
  }
 ],
 "metadata": {
  "celltoolbar": "Tags",
  "hide_input": false,
  "kernelspec": {
   "display_name": "Python 3",
   "language": "python",
   "name": "python3"
  },
  "language_info": {
   "codemirror_mode": {
    "name": "ipython",
    "version": 3
   },
   "file_extension": ".py",
   "mimetype": "text/x-python",
   "name": "python",
   "nbconvert_exporter": "python",
   "pygments_lexer": "ipython3",
   "version": "3.6.13"
  },
  "latex_envs": {
   "LaTeX_envs_menu_present": true,
   "autoclose": false,
   "autocomplete": true,
   "bibliofile": "biblio.bib",
   "cite_by": "apalike",
   "current_citInitial": 1,
   "eqLabelWithNumbers": true,
   "eqNumInitial": 1,
   "hotkeys": {
    "equation": "Ctrl-E",
    "itemize": "Ctrl-I"
   },
   "labels_anchors": false,
   "latex_user_defs": false,
   "report_style_numbering": false,
   "user_envs_cfg": false
  },
  "nbTranslate": {
   "displayLangs": [
    "*"
   ],
   "hotkey": "alt-t",
   "langInMainMenu": true,
   "sourceLang": "en",
   "targetLang": "fr",
   "useGoogleTranslate": true
  },
  "toc": {
   "base_numbering": 1,
   "nav_menu": {},
   "number_sections": false,
   "sideBar": true,
   "skip_h1_title": false,
   "title_cell": "Table of Contents",
   "title_sidebar": "Contents",
   "toc_cell": false,
   "toc_position": {},
   "toc_section_display": "block",
   "toc_window_display": true
  }
 },
 "nbformat": 4,
 "nbformat_minor": 4
}
