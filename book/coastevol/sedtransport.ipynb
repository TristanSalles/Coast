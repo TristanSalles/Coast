{
 "cells": [
  {
   "cell_type": "markdown",
   "metadata": {},
   "source": [
    "# Simple wave sediment modelling"
   ]
  },
  {
   "cell_type": "markdown",
   "metadata": {},
   "source": [
    ":::{note}\n",
    "Using a wave propagation model based on linear wave theory, we investigate the cumulative effect of a given wave forcing condition on erosional and depositional trend across a regional coastal system.</div>\n",
    ":::\n",
    "\n",
    "***\n",
    "\n",
    "**Content:**\n",
    "- [Model set-up](#setup)\n",
    "- [Model initialisation function](#init)\n",
    "- [Waves evolution](#evol)\n",
    "- [Sediment entrainment, transport & deposition](#sed)\n",
    "\n",
    "***"
   ]
  },
  {
   "cell_type": "markdown",
   "metadata": {},
   "source": [
    "Loading required modules for this exercise. The main module here is **wavesed** a piece of code that was developed for this course and that can be found on [GitHub](https://github.com/pyReef-model/wavesed)"
   ]
  },
  {
   "cell_type": "code",
   "execution_count": 5,
   "metadata": {},
   "outputs": [
    {
     "name": "stdout",
     "output_type": "stream",
     "text": [
      "Collecting package metadata (current_repodata.json): done\n",
      "Solving environment: done\n",
      "\n",
      "## Package Plan ##\n",
      "\n",
      "  environment location: /Users/getafix/anaconda3/envs/coast\n",
      "\n",
      "  added / updated specs:\n",
      "    - compilers\n",
      "\n",
      "\n",
      "The following NEW packages will be INSTALLED:\n",
      "\n",
      "  c-compiler         conda-forge/osx-64::c-compiler-1.1.3-h35c211d_0\n",
      "  clangxx_osx-64     conda-forge/osx-64::clangxx_osx-64-11.1.0-h7e1b574_0\n",
      "  compilers          conda-forge/osx-64::compilers-1.1.3-h694c41f_0\n",
      "  cxx-compiler       conda-forge/osx-64::cxx-compiler-1.1.3-h926bf3e_0\n",
      "\n",
      "\n",
      "Preparing transaction: done\n",
      "Verifying transaction: done\n",
      "Executing transaction: done\n"
     ]
    }
   ],
   "source": [
    "!conda install -c conda-forge compilers --y"
   ]
  },
  {
   "cell_type": "code",
   "execution_count": 6,
   "metadata": {},
   "outputs": [
    {
     "name": "stdout",
     "output_type": "stream",
     "text": [
      "Usage:\n",
      "\n",
      "1) To construct extension module sources:\n",
      "\n",
      "      f2py [<options>] <fortran files> [[[only:]||[skip:]] \\\n",
      "                                        <fortran functions> ] \\\n",
      "                                       [: <fortran files> ...]\n",
      "\n",
      "2) To compile fortran files and build extension modules:\n",
      "\n",
      "      f2py -c [<options>, <build_flib options>, <extra options>] <fortran files>\n",
      "\n",
      "3) To generate signature files:\n",
      "\n",
      "      f2py -h <filename.pyf> ...< same options as in (1) >\n",
      "\n",
      "Description: This program generates a Python C/API file (<modulename>module.c)\n",
      "             that contains wrappers for given fortran functions so that they\n",
      "             can be called from Python. With the -c option the corresponding\n",
      "             extension modules are built.\n",
      "\n",
      "Options:\n",
      "\n",
      "  --2d-numpy       Use numpy.f2py tool with NumPy support. [DEFAULT]\n",
      "  --2d-numeric     Use f2py2e tool with Numeric support.\n",
      "  --2d-numarray    Use f2py2e tool with Numarray support.\n",
      "  --g3-numpy       Use 3rd generation f2py from the separate f2py package.\n",
      "                   [NOT AVAILABLE YET]\n",
      "\n",
      "  -h <filename>    Write signatures of the fortran routines to file <filename>\n",
      "                   and exit. You can then edit <filename> and use it instead\n",
      "                   of <fortran files>. If <filename>==stdout then the\n",
      "                   signatures are printed to stdout.\n",
      "  <fortran functions>  Names of fortran routines for which Python C/API\n",
      "                   functions will be generated. Default is all that are found\n",
      "                   in <fortran files>.\n",
      "  <fortran files>  Paths to fortran/signature files that will be scanned for\n",
      "                   <fortran functions> in order to determine their signatures.\n",
      "  skip:            Ignore fortran functions that follow until `:'.\n",
      "  only:            Use only fortran functions that follow until `:'.\n",
      "  :                Get back to <fortran files> mode.\n",
      "\n",
      "  -m <modulename>  Name of the module; f2py generates a Python/C API\n",
      "                   file <modulename>module.c or extension module <modulename>.\n",
      "                   Default is 'untitled'.\n",
      "\n",
      "  --[no-]lower     Do [not] lower the cases in <fortran files>. By default,\n",
      "                   --lower is assumed with -h key, and --no-lower without -h key.\n",
      "\n",
      "  --build-dir <dirname>  All f2py generated files are created in <dirname>.\n",
      "                   Default is tempfile.mkdtemp().\n",
      "\n",
      "  --overwrite-signature  Overwrite existing signature file.\n",
      "\n",
      "  --[no-]latex-doc Create (or not) <modulename>module.tex.\n",
      "                   Default is --no-latex-doc.\n",
      "  --short-latex    Create 'incomplete' LaTeX document (without commands\n",
      "                   \\documentclass, \\tableofcontents, and \\begin{document},\n",
      "                   \\end{document}).\n",
      "\n",
      "  --[no-]rest-doc Create (or not) <modulename>module.rst.\n",
      "                   Default is --no-rest-doc.\n",
      "\n",
      "  --debug-capi     Create C/API code that reports the state of the wrappers\n",
      "                   during runtime. Useful for debugging.\n",
      "\n",
      "  --[no-]wrap-functions    Create Fortran subroutine wrappers to Fortran 77\n",
      "                   functions. --wrap-functions is default because it ensures\n",
      "                   maximum portability/compiler independence.\n",
      "\n",
      "  --include-paths <path1>:<path2>:...   Search include files from the given\n",
      "                   directories.\n",
      "\n",
      "  --help-link [..] List system resources found by system_info.py. See also\n",
      "                   --link-<resource> switch below. [..] is optional list\n",
      "                   of resources names. E.g. try 'f2py --help-link lapack_opt'.\n",
      "\n",
      "  --f2cmap <filename>  Load Fortran-to-Python KIND specification from the given\n",
      "                   file. Default: .f2py_f2cmap in current directory.\n",
      "\n",
      "  --quiet          Run quietly.\n",
      "  --verbose        Run with extra verbosity.\n",
      "  -v               Print f2py version ID and exit.\n",
      "\n",
      "\n",
      "numpy.distutils options (only effective with -c):\n",
      "\n",
      "  --fcompiler=         Specify Fortran compiler type by vendor\n",
      "  --compiler=          Specify C compiler type (as defined by distutils)\n",
      "\n",
      "  --help-fcompiler     List available Fortran compilers and exit\n",
      "  --f77exec=           Specify the path to F77 compiler\n",
      "  --f90exec=           Specify the path to F90 compiler\n",
      "  --f77flags=          Specify F77 compiler flags\n",
      "  --f90flags=          Specify F90 compiler flags\n",
      "  --opt=               Specify optimization flags\n",
      "  --arch=              Specify architecture specific optimization flags\n",
      "  --noopt              Compile without optimization\n",
      "  --noarch             Compile without arch-dependent optimization\n",
      "  --debug              Compile with debugging information\n",
      "\n",
      "Extra options (only effective with -c):\n",
      "\n",
      "  --link-<resource>    Link extension module with <resource> as defined\n",
      "                       by numpy.distutils/system_info.py. E.g. to link\n",
      "                       with optimized LAPACK libraries (vecLib on MacOSX,\n",
      "                       ATLAS elsewhere), use --link-lapack_opt.\n",
      "                       See also --help-link switch.\n",
      "\n",
      "  -L/path/to/lib/ -l<libname>\n",
      "  -D<define> -U<name>\n",
      "  -I/path/to/include/\n",
      "  <filename>.o <filename>.so <filename>.a\n",
      "\n",
      "  Using the following macros may be required with non-gcc Fortran\n",
      "  compilers:\n",
      "    -DPREPEND_FORTRAN -DNO_APPEND_FORTRAN -DUPPERCASE_FORTRAN\n",
      "    -DUNDERSCORE_G77\n",
      "\n",
      "  When using -DF2PY_REPORT_ATEXIT, a performance report of F2PY\n",
      "  interface is printed out at exit (platforms: Linux).\n",
      "\n",
      "  When using -DF2PY_REPORT_ON_ARRAY_COPY=<int>, a message is\n",
      "  sent to stderr whenever F2PY interface makes a copy of an\n",
      "  array. Integer <int> sets the threshold for array sizes when\n",
      "  a message should be shown.\n",
      "\n",
      "Version:     2\n",
      "numpy Version: 1.20.1\n",
      "Requires:    Python 3.5 or higher.\n",
      "License:     NumPy license (see LICENSE.txt in the NumPy source code)\n",
      "Copyright 1999 - 2011 Pearu Peterson all rights reserved.\n",
      "http://cens.ioc.ee/projects/f2py2e/\n"
     ]
    }
   ],
   "source": [
    "!f2py"
   ]
  },
  {
   "cell_type": "code",
   "execution_count": 2,
   "metadata": {},
   "outputs": [],
   "source": [
    "#!git clone --depth=1 https://github.com/matplotlib/legacycontour.git; cd legacycontour; python3 setup.py install; cd ..; rm -rf legacycontour"
   ]
  },
  {
   "cell_type": "code",
   "execution_count": 7,
   "metadata": {},
   "outputs": [
    {
     "name": "stdout",
     "output_type": "stream",
     "text": [
      "\u001b[39mrunning build\u001b[0m\n",
      "\u001b[39mrunning config_cc\u001b[0m\n",
      "\u001b[39munifing config_cc, config, build_clib, build_ext, build commands --compiler options\u001b[0m\n",
      "\u001b[39mrunning config_fc\u001b[0m\n",
      "\u001b[39munifing config_fc, config, build_clib, build_ext, build commands --fcompiler options\u001b[0m\n",
      "\u001b[39mrunning build_src\u001b[0m\n",
      "\u001b[39mbuild_src\u001b[0m\n",
      "\u001b[39mbuilding extension \"ocean\" sources\u001b[0m\n",
      "\u001b[39mf2py options: []\u001b[0m\n",
      "\u001b[39mf2py:> /var/folders/px/dgn5m62n7bjbrc1d3cplcv7m0000gn/T/tmprpbu8pqo/src.macosx-10.9-x86_64-3.8/oceanmodule.c\u001b[0m\n",
      "\u001b[39mcreating /var/folders/px/dgn5m62n7bjbrc1d3cplcv7m0000gn/T/tmprpbu8pqo/src.macosx-10.9-x86_64-3.8\u001b[0m\n",
      "Reading fortran codes...\n",
      "\tReading file 'ocean.f90' (format:free)\n",
      "Post-processing...\n",
      "\tBlock: ocean\n",
      "\t\t\tBlock: ocean\n",
      "\t\t\t\tBlock: airymodel\n",
      "\t\t\t\tBlock: transport\n",
      "\t\t\t\tBlock: diffusion\n",
      "Post-processing (stage 2)...\n",
      "\tBlock: ocean\n",
      "\t\tBlock: unknown_interface\n",
      "\t\t\tBlock: ocean\n",
      "\t\t\t\tBlock: airymodel\n",
      "\t\t\t\tBlock: transport\n",
      "\t\t\t\tBlock: diffusion\n",
      "Building modules...\n",
      "\tBuilding module \"ocean\"...\n",
      "\t\tConstructing F90 module support for \"ocean\"...\n",
      "\t\t  Variables: pi onpi pi2 pion2 onpi2 grav\n",
      "\t\t\tConstructing wrapper function \"ocean.airymodel\"...\n",
      "\t\t\t  c,l,travel,waveh = airymodel(dx,dd,h0,depth,src,inland,shadow,[numrow,numcol])\n",
      "\t\t\tConstructing wrapper function \"ocean.transport\"...\n",
      "\t\t\t  dz,dist = transport(iter,depth,hent,transx,transy,[numrow,numcol])\n",
      "\t\t\tConstructing wrapper function \"ocean.diffusion\"...\n",
      "\t\t\t  depo = diffusion(oelev,dz,coeff,maxth,tstep,nstep,[numrow,numcol])\n",
      "\tWrote C/API module \"ocean\" to file \"/var/folders/px/dgn5m62n7bjbrc1d3cplcv7m0000gn/T/tmprpbu8pqo/src.macosx-10.9-x86_64-3.8/oceanmodule.c\"\n",
      "\tFortran 90 wrappers are saved to \"/var/folders/px/dgn5m62n7bjbrc1d3cplcv7m0000gn/T/tmprpbu8pqo/src.macosx-10.9-x86_64-3.8/ocean-f2pywrappers2.f90\"\n",
      "\u001b[39m  adding '/var/folders/px/dgn5m62n7bjbrc1d3cplcv7m0000gn/T/tmprpbu8pqo/src.macosx-10.9-x86_64-3.8/fortranobject.c' to sources.\u001b[0m\n",
      "\u001b[39m  adding '/var/folders/px/dgn5m62n7bjbrc1d3cplcv7m0000gn/T/tmprpbu8pqo/src.macosx-10.9-x86_64-3.8' to include_dirs.\u001b[0m\n",
      "\u001b[39mcopying /Users/getafix/anaconda3/envs/coast/lib/python3.8/site-packages/numpy/f2py/src/fortranobject.c -> /var/folders/px/dgn5m62n7bjbrc1d3cplcv7m0000gn/T/tmprpbu8pqo/src.macosx-10.9-x86_64-3.8\u001b[0m\n",
      "\u001b[39mcopying /Users/getafix/anaconda3/envs/coast/lib/python3.8/site-packages/numpy/f2py/src/fortranobject.h -> /var/folders/px/dgn5m62n7bjbrc1d3cplcv7m0000gn/T/tmprpbu8pqo/src.macosx-10.9-x86_64-3.8\u001b[0m\n",
      "\u001b[39m  adding '/var/folders/px/dgn5m62n7bjbrc1d3cplcv7m0000gn/T/tmprpbu8pqo/src.macosx-10.9-x86_64-3.8/ocean-f2pywrappers2.f90' to sources.\u001b[0m\n",
      "\u001b[39mbuild_src: building npy-pkg config files\u001b[0m\n",
      "\u001b[39mrunning build_ext\u001b[0m\n",
      "\u001b[39mcustomize UnixCCompiler\u001b[0m\n",
      "\u001b[39mcustomize UnixCCompiler using build_ext\u001b[0m\n",
      "\u001b[39mget_default_fcompiler: matching types: '['gnu95', 'nag', 'absoft', 'ibm', 'intel', 'gnu', 'g95', 'pg']'\u001b[0m\n",
      "\u001b[39mcustomize Gnu95FCompiler\u001b[0m\n",
      "\u001b[39mFound executable /Users/getafix/anaconda3/envs/coast/bin/gfortran\u001b[0m\n",
      "\u001b[39mcustomize Gnu95FCompiler\u001b[0m\n",
      "\u001b[39mcustomize Gnu95FCompiler using build_ext\u001b[0m\n",
      "\u001b[39mbuilding 'ocean' extension\u001b[0m\n",
      "\u001b[39mcompiling C sources\u001b[0m\n",
      "\u001b[39mC compiler: gcc -Wno-unused-result -Wsign-compare -Wunreachable-code -DNDEBUG -g -fwrapv -O3 -Wall -Wstrict-prototypes -I/Users/getafix/anaconda3/envs/coast/include -arch x86_64 -I/Users/getafix/anaconda3/envs/coast/include -arch x86_64\n",
      "\u001b[0m\n",
      "\u001b[39mcreating /var/folders/px/dgn5m62n7bjbrc1d3cplcv7m0000gn/T/tmprpbu8pqo/var\u001b[0m\n",
      "\u001b[39mcreating /var/folders/px/dgn5m62n7bjbrc1d3cplcv7m0000gn/T/tmprpbu8pqo/var/folders\u001b[0m\n",
      "\u001b[39mcreating /var/folders/px/dgn5m62n7bjbrc1d3cplcv7m0000gn/T/tmprpbu8pqo/var/folders/px\u001b[0m\n",
      "\u001b[39mcreating /var/folders/px/dgn5m62n7bjbrc1d3cplcv7m0000gn/T/tmprpbu8pqo/var/folders/px/dgn5m62n7bjbrc1d3cplcv7m0000gn\u001b[0m\n",
      "\u001b[39mcreating /var/folders/px/dgn5m62n7bjbrc1d3cplcv7m0000gn/T/tmprpbu8pqo/var/folders/px/dgn5m62n7bjbrc1d3cplcv7m0000gn/T\u001b[0m\n",
      "\u001b[39mcreating /var/folders/px/dgn5m62n7bjbrc1d3cplcv7m0000gn/T/tmprpbu8pqo/var/folders/px/dgn5m62n7bjbrc1d3cplcv7m0000gn/T/tmprpbu8pqo\u001b[0m\n",
      "\u001b[39mcreating /var/folders/px/dgn5m62n7bjbrc1d3cplcv7m0000gn/T/tmprpbu8pqo/var/folders/px/dgn5m62n7bjbrc1d3cplcv7m0000gn/T/tmprpbu8pqo/src.macosx-10.9-x86_64-3.8\u001b[0m\n",
      "\u001b[39mcompile options: '-DNPY_DISABLE_OPTIMIZATION=1 -I/var/folders/px/dgn5m62n7bjbrc1d3cplcv7m0000gn/T/tmprpbu8pqo/src.macosx-10.9-x86_64-3.8 -I/Users/getafix/anaconda3/envs/coast/lib/python3.8/site-packages/numpy/core/include -I/Users/getafix/anaconda3/envs/coast/include/python3.8 -c'\u001b[0m\n",
      "\u001b[39mgcc: /var/folders/px/dgn5m62n7bjbrc1d3cplcv7m0000gn/T/tmprpbu8pqo/src.macosx-10.9-x86_64-3.8/fortranobject.c\u001b[0m\n",
      "\u001b[39mgcc: /var/folders/px/dgn5m62n7bjbrc1d3cplcv7m0000gn/T/tmprpbu8pqo/src.macosx-10.9-x86_64-3.8/oceanmodule.c\u001b[0m\n",
      "In file included from In file included from /var/folders/px/dgn5m62n7bjbrc1d3cplcv7m0000gn/T/tmprpbu8pqo/src.macosx-10.9-x86_64-3.8/fortranobject.c/var/folders/px/dgn5m62n7bjbrc1d3cplcv7m0000gn/T/tmprpbu8pqo/src.macosx-10.9-x86_64-3.8/oceanmodule.c::216:\n",
      ":\n",
      "In file included from In file included from /var/folders/px/dgn5m62n7bjbrc1d3cplcv7m0000gn/T/tmprpbu8pqo/src.macosx-10.9-x86_64-3.8/fortranobject.h/var/folders/px/dgn5m62n7bjbrc1d3cplcv7m0000gn/T/tmprpbu8pqo/src.macosx-10.9-x86_64-3.8/fortranobject.h::1313:\n",
      ":\n",
      "In file included from In file included from /Users/getafix/anaconda3/envs/coast/lib/python3.8/site-packages/numpy/core/include/numpy/arrayobject.h/Users/getafix/anaconda3/envs/coast/lib/python3.8/site-packages/numpy/core/include/numpy/arrayobject.h::44:\n",
      ":\n",
      "In file included from In file included from /Users/getafix/anaconda3/envs/coast/lib/python3.8/site-packages/numpy/core/include/numpy/ndarrayobject.h/Users/getafix/anaconda3/envs/coast/lib/python3.8/site-packages/numpy/core/include/numpy/ndarrayobject.h:12:\n",
      "In file included from /Users/getafix/anaconda3/envs/coast/lib/python3.8/site-packages/numpy/core/include/numpy/ndarraytypes.h:1944:\n",
      ":\u001b[1m12/Users/getafix/anaconda3/envs/coast/lib/python3.8/site-packages/numpy/core/include/numpy/npy_1_7_deprecated_api.h:\n",
      ":In file included from 17/Users/getafix/anaconda3/envs/coast/lib/python3.8/site-packages/numpy/core/include/numpy/ndarraytypes.h::21944::\n",
      " \u001b[0m\u001b[0;1;35mwarning\u001b[1m: /Users/getafix/anaconda3/envs/coast/lib/python3.8/site-packages/numpy/core/include/numpy/npy_1_7_deprecated_api.h\u001b[0m:\u001b[1m17:2:\n",
      "       \u001b[0m\"Using\u001b[0;1;35m warningdeprecated:  \u001b[0mNumPy\u001b[1m API, disable\n",
      "       it\"Using  withdeprecated  \"          \"#defineNumPy\n",
      "       API,NPY_NO_DEPRECATED_API  disableNPY_1_7_API_VERSION\"  it[-W#warnings] \u001b[0mwith\n",
      " \"          \"#define\n",
      "      NPY_NO_DEPRECATED_API NPY_1_7_API_VERSION\" [-W#warnings]\u001b[0m\n",
      "#warning \"Using deprecated NumPy API, disable it with \" \\\n",
      "\u001b[0;1;32m ^\n",
      "\u001b[0m#warning \"Using deprecated NumPy API, disable it with \" \\\n",
      "\u001b[0;1;32m ^\n",
      "\u001b[0m\u001b[1m/var/folders/px/dgn5m62n7bjbrc1d3cplcv7m0000gn/T/tmprpbu8pqo/src.macosx-10.9-x86_64-3.8/oceanmodule.c:109:12: \u001b[0m\u001b[0;1;35mwarning: \u001b[0m\u001b[1m\n",
      "      unused function 'f2py_size' [-Wunused-function]\u001b[0m\n",
      "static int f2py_size(PyArrayObject* var, ...)\n",
      "\u001b[0;1;32m           ^\n",
      "\u001b[0m2 warnings generated.\n",
      "1 warning generated.\n",
      "\u001b[39mcompiling Fortran 90 module sources\u001b[0m\n",
      "\u001b[39mFortran f77 compiler: /Users/getafix/anaconda3/envs/coast/bin/gfortran -Wall -g -ffixed-form -fno-second-underscore -arch x86_64 -fPIC -O3 -funroll-loops\n",
      "Fortran f90 compiler: /Users/getafix/anaconda3/envs/coast/bin/gfortran -Wall -g -fno-second-underscore -arch x86_64 -fPIC -O3 -funroll-loops\n",
      "Fortran fix compiler: /Users/getafix/anaconda3/envs/coast/bin/gfortran -Wall -g -ffixed-form -fno-second-underscore -Wall -g -fno-second-underscore -arch x86_64 -fPIC -O3 -funroll-loops\u001b[0m\n",
      "\u001b[39mcompile options: '-I/var/folders/px/dgn5m62n7bjbrc1d3cplcv7m0000gn/T/tmprpbu8pqo/src.macosx-10.9-x86_64-3.8 -I/Users/getafix/anaconda3/envs/coast/lib/python3.8/site-packages/numpy/core/include -I/Users/getafix/anaconda3/envs/coast/include/python3.8 -c'\n",
      "extra options: '-J/var/folders/px/dgn5m62n7bjbrc1d3cplcv7m0000gn/T/tmprpbu8pqo/ -I/var/folders/px/dgn5m62n7bjbrc1d3cplcv7m0000gn/T/tmprpbu8pqo/'\u001b[0m\n",
      "\u001b[39mgfortran:f90: ocean.f90\u001b[0m\n",
      "\u001b[39mcompiling Fortran sources\u001b[0m\n",
      "\u001b[39mFortran f77 compiler: /Users/getafix/anaconda3/envs/coast/bin/gfortran -Wall -g -ffixed-form -fno-second-underscore -arch x86_64 -fPIC -O3 -funroll-loops\n",
      "Fortran f90 compiler: /Users/getafix/anaconda3/envs/coast/bin/gfortran -Wall -g -fno-second-underscore -arch x86_64 -fPIC -O3 -funroll-loops\n",
      "Fortran fix compiler: /Users/getafix/anaconda3/envs/coast/bin/gfortran -Wall -g -ffixed-form -fno-second-underscore -Wall -g -fno-second-underscore -arch x86_64 -fPIC -O3 -funroll-loops\u001b[0m\n",
      "\u001b[39mcompile options: '-I/var/folders/px/dgn5m62n7bjbrc1d3cplcv7m0000gn/T/tmprpbu8pqo/src.macosx-10.9-x86_64-3.8 -I/Users/getafix/anaconda3/envs/coast/lib/python3.8/site-packages/numpy/core/include -I/Users/getafix/anaconda3/envs/coast/include/python3.8 -c'\n",
      "extra options: '-J/var/folders/px/dgn5m62n7bjbrc1d3cplcv7m0000gn/T/tmprpbu8pqo/ -I/var/folders/px/dgn5m62n7bjbrc1d3cplcv7m0000gn/T/tmprpbu8pqo/'\u001b[0m\n",
      "\u001b[39mgfortran:f90: /var/folders/px/dgn5m62n7bjbrc1d3cplcv7m0000gn/T/tmprpbu8pqo/src.macosx-10.9-x86_64-3.8/ocean-f2pywrappers2.f90\u001b[0m\n",
      "\u001b[39m/Users/getafix/anaconda3/envs/coast/bin/gfortran -Wall -g -arch x86_64 -Wall -g -undefined dynamic_lookup -bundle /var/folders/px/dgn5m62n7bjbrc1d3cplcv7m0000gn/T/tmprpbu8pqo/var/folders/px/dgn5m62n7bjbrc1d3cplcv7m0000gn/T/tmprpbu8pqo/src.macosx-10.9-x86_64-3.8/oceanmodule.o /var/folders/px/dgn5m62n7bjbrc1d3cplcv7m0000gn/T/tmprpbu8pqo/var/folders/px/dgn5m62n7bjbrc1d3cplcv7m0000gn/T/tmprpbu8pqo/src.macosx-10.9-x86_64-3.8/fortranobject.o /var/folders/px/dgn5m62n7bjbrc1d3cplcv7m0000gn/T/tmprpbu8pqo/ocean.o /var/folders/px/dgn5m62n7bjbrc1d3cplcv7m0000gn/T/tmprpbu8pqo/var/folders/px/dgn5m62n7bjbrc1d3cplcv7m0000gn/T/tmprpbu8pqo/src.macosx-10.9-x86_64-3.8/ocean-f2pywrappers2.o -L/Users/getafix/anaconda3/envs/coast/lib/gcc/x86_64-apple-darwin13.4.0/9.3.0 -L/Users/getafix/anaconda3/envs/coast/lib/gcc/x86_64-apple-darwin13.4.0/9.3.0/../../.. -L/Users/getafix/anaconda3/envs/coast/lib/gcc/x86_64-apple-darwin13.4.0/9.3.0/../../.. -lgfortran -o ./ocean.cpython-38-darwin.so\u001b[0m\n",
      "ld: library not found for -lSystem\n",
      "collect2: error: ld returned 1 exit status\n",
      "error: Command \"/Users/getafix/anaconda3/envs/coast/bin/gfortran -Wall -g -arch x86_64 -Wall -g -undefined dynamic_lookup -bundle /var/folders/px/dgn5m62n7bjbrc1d3cplcv7m0000gn/T/tmprpbu8pqo/var/folders/px/dgn5m62n7bjbrc1d3cplcv7m0000gn/T/tmprpbu8pqo/src.macosx-10.9-x86_64-3.8/oceanmodule.o /var/folders/px/dgn5m62n7bjbrc1d3cplcv7m0000gn/T/tmprpbu8pqo/var/folders/px/dgn5m62n7bjbrc1d3cplcv7m0000gn/T/tmprpbu8pqo/src.macosx-10.9-x86_64-3.8/fortranobject.o /var/folders/px/dgn5m62n7bjbrc1d3cplcv7m0000gn/T/tmprpbu8pqo/ocean.o /var/folders/px/dgn5m62n7bjbrc1d3cplcv7m0000gn/T/tmprpbu8pqo/var/folders/px/dgn5m62n7bjbrc1d3cplcv7m0000gn/T/tmprpbu8pqo/src.macosx-10.9-x86_64-3.8/ocean-f2pywrappers2.o -L/Users/getafix/anaconda3/envs/coast/lib/gcc/x86_64-apple-darwin13.4.0/9.3.0 -L/Users/getafix/anaconda3/envs/coast/lib/gcc/x86_64-apple-darwin13.4.0/9.3.0/../../.. -L/Users/getafix/anaconda3/envs/coast/lib/gcc/x86_64-apple-darwin13.4.0/9.3.0/../../.. -lgfortran -o ./ocean.cpython-38-darwin.so\" failed with exit status 1\n"
     ]
    }
   ],
   "source": [
    "!cd wavesed/; f2py -c -m ocean ocean.f90    "
   ]
  },
  {
   "cell_type": "markdown",
   "metadata": {},
   "source": []
  },
  {
   "cell_type": "code",
   "execution_count": 8,
   "metadata": {},
   "outputs": [
    {
     "ename": "ImportError",
     "evalue": "cannot import name 'dedent' from 'matplotlib.cbook' (/Users/getafix/anaconda3/envs/coast/lib/python3.8/site-packages/matplotlib/cbook/__init__.py)",
     "output_type": "error",
     "traceback": [
      "\u001b[0;31m---------------------------------------------------------------------------\u001b[0m",
      "\u001b[0;31mImportError\u001b[0m                               Traceback (most recent call last)",
      "\u001b[0;32m<ipython-input-8-512c81007a86>\u001b[0m in \u001b[0;36m<module>\u001b[0;34m\u001b[0m\n\u001b[1;32m      1\u001b[0m \u001b[0;32mimport\u001b[0m \u001b[0mtime\u001b[0m\u001b[0;34m\u001b[0m\u001b[0;34m\u001b[0m\u001b[0m\n\u001b[1;32m      2\u001b[0m \u001b[0;32mimport\u001b[0m \u001b[0mnumpy\u001b[0m \u001b[0;32mas\u001b[0m \u001b[0mnp\u001b[0m\u001b[0;34m\u001b[0m\u001b[0;34m\u001b[0m\u001b[0m\n\u001b[0;32m----> 3\u001b[0;31m \u001b[0;32mimport\u001b[0m \u001b[0mwavesed\u001b[0m\u001b[0;34m.\u001b[0m\u001b[0mwave\u001b[0m \u001b[0;32mas\u001b[0m \u001b[0mocean\u001b[0m\u001b[0;34m\u001b[0m\u001b[0;34m\u001b[0m\u001b[0m\n\u001b[0m\u001b[1;32m      4\u001b[0m \u001b[0;34m\u001b[0m\u001b[0m\n\u001b[1;32m      5\u001b[0m \u001b[0mget_ipython\u001b[0m\u001b[0;34m(\u001b[0m\u001b[0;34m)\u001b[0m\u001b[0;34m.\u001b[0m\u001b[0mrun_line_magic\u001b[0m\u001b[0;34m(\u001b[0m\u001b[0;34m'matplotlib'\u001b[0m\u001b[0;34m,\u001b[0m \u001b[0;34m'inline'\u001b[0m\u001b[0;34m)\u001b[0m\u001b[0;34m\u001b[0m\u001b[0;34m\u001b[0m\u001b[0m\n",
      "\u001b[0;32m~/workspace/Coast/book/coastevol/wavesed/wave.py\u001b[0m in \u001b[0;36m<module>\u001b[0;34m\u001b[0m\n\u001b[1;32m     30\u001b[0m \u001b[0;32mfrom\u001b[0m \u001b[0mmatplotlib\u001b[0m\u001b[0;34m.\u001b[0m\u001b[0mpath\u001b[0m \u001b[0;32mimport\u001b[0m \u001b[0mPath\u001b[0m\u001b[0;34m\u001b[0m\u001b[0;34m\u001b[0m\u001b[0m\n\u001b[1;32m     31\u001b[0m \u001b[0;32mfrom\u001b[0m \u001b[0mcollections\u001b[0m \u001b[0;32mimport\u001b[0m \u001b[0mOrderedDict\u001b[0m\u001b[0;34m\u001b[0m\u001b[0;34m\u001b[0m\u001b[0m\n\u001b[0;32m---> 32\u001b[0;31m \u001b[0;32mfrom\u001b[0m \u001b[0mlegacycontour\u001b[0m \u001b[0;32mimport\u001b[0m \u001b[0m_cntr\u001b[0m \u001b[0;32mas\u001b[0m \u001b[0mcntr\u001b[0m\u001b[0;34m\u001b[0m\u001b[0;34m\u001b[0m\u001b[0m\n\u001b[0m\u001b[1;32m     33\u001b[0m \u001b[0;34m\u001b[0m\u001b[0m\n\u001b[1;32m     34\u001b[0m \u001b[0;32mimport\u001b[0m \u001b[0mmatplotlib\u001b[0m\u001b[0;34m.\u001b[0m\u001b[0mpyplot\u001b[0m \u001b[0;32mas\u001b[0m \u001b[0mplt\u001b[0m\u001b[0;34m\u001b[0m\u001b[0;34m\u001b[0m\u001b[0m\n",
      "\u001b[0;32m~/anaconda3/envs/coast/lib/python3.8/site-packages/legacycontour-0+untagged.1.g0aa2b43-py3.8-macosx-10.9-x86_64.egg/legacycontour/__init__.py\u001b[0m in \u001b[0;36m<module>\u001b[0;34m\u001b[0m\n\u001b[1;32m      7\u001b[0m \u001b[0;34m\u001b[0m\u001b[0m\n\u001b[1;32m      8\u001b[0m \u001b[0;32mimport\u001b[0m \u001b[0mmatplotlib\u001b[0m \u001b[0;32mas\u001b[0m \u001b[0mmpl\u001b[0m\u001b[0;34m\u001b[0m\u001b[0;34m\u001b[0m\u001b[0m\n\u001b[0;32m----> 9\u001b[0;31m \u001b[0;32mfrom\u001b[0m \u001b[0mmatplotlib\u001b[0m\u001b[0;34m.\u001b[0m\u001b[0mcbook\u001b[0m \u001b[0;32mimport\u001b[0m \u001b[0mdedent\u001b[0m\u001b[0;34m\u001b[0m\u001b[0;34m\u001b[0m\u001b[0m\n\u001b[0m\u001b[1;32m     10\u001b[0m \u001b[0;32mimport\u001b[0m \u001b[0msix\u001b[0m\u001b[0;34m\u001b[0m\u001b[0;34m\u001b[0m\u001b[0m\n\u001b[1;32m     11\u001b[0m \u001b[0;34m\u001b[0m\u001b[0m\n",
      "\u001b[0;31mImportError\u001b[0m: cannot import name 'dedent' from 'matplotlib.cbook' (/Users/getafix/anaconda3/envs/coast/lib/python3.8/site-packages/matplotlib/cbook/__init__.py)"
     ]
    }
   ],
   "source": [
    "import time\n",
    "import numpy as np\n",
    "import wavesed.wave as ocean\n",
    "\n",
    "%matplotlib inline"
   ]
  },
  {
   "cell_type": "markdown",
   "metadata": {},
   "source": [
    "## <a name=\"setup\"></a>  Model set-up\n",
    "\n",
    "\n",
    "The model requires several parameters to be defined before being run. The most important one being the initial bathymetry. For this example, we will use the region around [Fraser Island](https://www.google.com.au/maps/@-24.8590806,152.2555941,236264m/data=!3m1!1e3?hl=en) at a resolution of 1000 m. The _digital elevation model_ (DEM) comes from the [Project 3DGBR](http://eatlas.org.au/data/uuid/200aba6b-6fb6-443e-b84b-86b0bbdb53ac).\n",
    "\n",
    "<img src=\"../../figs/ex4-fig1.png\" width=\"60%\">\n",
    "\n",
    "The file is called **FraserDEM.csv** and is located in the **data** folder. It is made of 3 columns containing the X, Y, and Z coordinates. "
   ]
  },
  {
   "cell_type": "markdown",
   "metadata": {},
   "source": [
    "### Model domain / grid parameters\n",
    "\n",
    "It is possible to change the initial resolution by using the `rfac` parameter, as an example:\n",
    "\n",
    "+ `rfac = 1` corresponds to a model at 1000 m resolution (similar to the initial DEM)\n",
    "+ `rfac = 2` transforms the dataset to 2000 m resolution "
   ]
  },
  {
   "cell_type": "code",
   "execution_count": null,
   "metadata": {},
   "outputs": [],
   "source": [
    "# Bathymetric filename\n",
    "bfile = '../../dataset/FraserDEM.csv'\n",
    "# Resolution factor\n",
    "rfac = 1 "
   ]
  },
  {
   "cell_type": "markdown",
   "metadata": {},
   "source": [
    "### Definition of wave parameters\n",
    "\n",
    "Now we need to define the forcing parameters for our simulation:\n",
    "\n",
    "+ `H0` the deep water wave height in [m],\n",
    "+ `dir` the deep water wave source direction at the boundary in degrees (angle is defined counterclock wise from horizontal axis)\n",
    "+ `wbase` the maximum depth for wave influence on seabed [m]\n",
    "+ `slvl` the sea-level position in [m]"
   ]
  },
  {
   "cell_type": "code",
   "execution_count": null,
   "metadata": {},
   "outputs": [],
   "source": [
    "# Wave height\n",
    "H0 = 2\n",
    "# Wave direction at boundary \n",
    "dir = 0\n",
    "# Maximum depth for wave influence (m)\n",
    "wbase = 10\n",
    "# Sea level position (m)\n",
    "slvl = 0.\n",
    "# Output figure name\n",
    "outname = 'wdir0'"
   ]
  },
  {
   "cell_type": "markdown",
   "metadata": {},
   "source": [
    "### Definition of sediment parameters\n",
    "\n",
    "To estimate wave-induced sediment transport, this simple model only accounts for a single grain size that needs to be defined (`d50`). \n",
    "\n",
    "There are also additional parameters that can be set to perform longshore and diffusive transport but we will use the default values for this example..."
   ]
  },
  {
   "cell_type": "code",
   "execution_count": null,
   "metadata": {},
   "outputs": [],
   "source": [
    "# Mean grain size diameter in m\n",
    "d50 = 0.0001"
   ]
  },
  {
   "cell_type": "markdown",
   "metadata": {},
   "source": [
    "## <a name=\"init\"></a>  Model initialisation function\n",
    "\n",
    "Now that all the parameters are defined in our python environment, we can initialise the simulation by calling the wavesed module:"
   ]
  },
  {
   "cell_type": "code",
   "execution_count": null,
   "metadata": {},
   "outputs": [],
   "source": [
    "#help(ocean.wave.__init__)"
   ]
  },
  {
   "cell_type": "code",
   "execution_count": null,
   "metadata": {},
   "outputs": [],
   "source": [
    "wavesed = ocean.wave(filename=bfile, wavebase=wbase, resfac=rfac, dia=d50)"
   ]
  },
  {
   "cell_type": "markdown",
   "metadata": {},
   "source": [
    "As you can see from the command above there are still some parameters that have not been passed to the module:\n",
    "\n",
    "+ `slvl`\n",
    "+ `dir`\n",
    "+ `H0`\n",
    "\n",
    "These parameters are sent separately so that multiple climatic conditions could be simulate more easily.\n",
    "\n",
    "First we define the sea-level position `slvl`."
   ]
  },
  {
   "cell_type": "code",
   "execution_count": null,
   "metadata": {},
   "outputs": [],
   "source": [
    "t0 = time.clock()\n",
    "wavesed.findland(slvl)\n",
    "print('Definition of shoreline position took (s):',time.clock()-t0)"
   ]
  },
  {
   "cell_type": "markdown",
   "metadata": {},
   "source": [
    "Initialising wave boundary direction `dir` is then done with the `wavesource` function:"
   ]
  },
  {
   "cell_type": "code",
   "execution_count": null,
   "metadata": {},
   "outputs": [],
   "source": [
    "wdir = wavesed.wavesource(dir)"
   ]
  },
  {
   "cell_type": "markdown",
   "metadata": {},
   "source": [
    "## <a name=\"evol\"></a>  Waves evolution\n",
    "\n",
    "The waves are then transformed using the **linear wave theory** from deep (set-up conditions) to shallow water assuming shore-parallel depth contours. \n",
    "\n",
    "The orientation of wave fronts is determined by wave _celerity_ and _refraction_ due to depth variations. \n",
    "\n",
    "Travel time in the domain is calculated from **Huygen's principle** (using an order $\\sqrt{5}$ approximation).\n",
    "\n",
    "Assuming no refraction or loss of energy due to bottom friction, wave power $P$ is conserved from deep to shallow water. "
   ]
  },
  {
   "cell_type": "code",
   "execution_count": null,
   "metadata": {},
   "outputs": [],
   "source": [
    "#help(wavesed.cmptwaves)"
   ]
  },
  {
   "cell_type": "code",
   "execution_count": null,
   "metadata": {},
   "outputs": [],
   "source": [
    "t0 = time.clock()\n",
    "wavesed.cmptwaves(src=wdir, h0=H0, sigma=1.)\n",
    "print('Wave evolution computation took (s): ',time.clock()-t0)"
   ]
  },
  {
   "cell_type": "markdown",
   "metadata": {},
   "source": [
    "### Plotting simulated wave characteristics\n",
    "\n",
    "A series of graph can be visualised to show the following characteristics:\n",
    "\n",
    "+ _bathy_: coarse bathymetric map\n",
    "+ _wlength_: coarse wave lenght map\n",
    "+ _travel_: coarse wave travel time map\n",
    "+ _wcelerity_: coarse wave celerity map\n",
    "+ _wheight_: coarse wave height map\n",
    "+ _wpower_: coarse wave power map\n",
    "+ _ubot_: coarse wave induced bottom velocity map\n",
    "+ _shear_: coarse wave induced shear stress map"
   ]
  },
  {
   "cell_type": "code",
   "execution_count": null,
   "metadata": {},
   "outputs": [],
   "source": [
    "#help(wavesed.plotData)"
   ]
  },
  {
   "cell_type": "code",
   "execution_count": null,
   "metadata": {},
   "outputs": [],
   "source": [
    "size = (10,10)\n",
    "# i1 = 0 \n",
    "# i2 = -1\n",
    "# j1 = 0\n",
    "# j2 = -1\n",
    "\n",
    "# Zooming to a specific region\n",
    "i1 = 80 \n",
    "i2 = 250 \n",
    "j1 = 0\n",
    "j2 = 170 \n",
    "\n",
    "wavesed.plotData(data='bathy', figsize=size, vmin=-100, vmax=100, \n",
    "                 fontsize=10, imin=i1, imax=i2, jmin=j1, jmax=j2)\n",
    "\n",
    "wavesed.plotData(data='travel', figsize=size, tstep=100, vmin=0, vmax=5.e4, \n",
    "                 fontsize=10, imin=i1, imax=i2, jmin=j1, jmax=j2)\n",
    "\n",
    "wavesed.plotData(data='wcelerity', figsize=size, vmin=0, vmax=15, \n",
    "                 fontsize=10, stream=3, imin=i1, imax=i2, jmin=j1, jmax=j2)\n",
    "\n",
    "wavesed.plotData(data='ubot', figsize=size, vmin=0, vmax=2, \n",
    "                 fontsize=10, imin=i1, imax=i2, jmin=j1, jmax=j2)\n",
    "\n",
    "wavesed.plotData(data='shear', figsize=size, vmin=-10, vmax=10, \n",
    "                  fontsize=10, imin=i1, imax=i2, jmin=j1, jmax=j2)"
   ]
  },
  {
   "cell_type": "markdown",
   "metadata": {},
   "source": [
    "## <a name=\"sed\"></a>  Sediment entrainment, transport & deposition\n",
    "\n",
    "**Sediment entrainment** relates to wave induced shear stress. \n",
    "\n",
    "The transport is computed according to both wave direction and longshore transport. Deposition is dependent of shear stress and diffusion."
   ]
  },
  {
   "cell_type": "code",
   "execution_count": null,
   "metadata": {},
   "outputs": [],
   "source": [
    "#help(wavesed.cmptsed)"
   ]
  },
  {
   "cell_type": "code",
   "execution_count": null,
   "metadata": {},
   "outputs": [],
   "source": [
    "t0 = time.clock()\n",
    "wavesed.cmptsed(sigma=1.)\n",
    "print('Sediment erosion/deposition computation took (s): ',time.clock()-t0)"
   ]
  },
  {
   "cell_type": "markdown",
   "metadata": {},
   "source": [
    "### Plotting morphological changes\n",
    "\n",
    "Using the same plotting function (`plotData`), we can now plot the following metrics:\n",
    "\n",
    "+ _ent_: coarse sediment entrainment map\n",
    "+ _dz_: coarse erosion/deposition map"
   ]
  },
  {
   "cell_type": "code",
   "execution_count": null,
   "metadata": {},
   "outputs": [],
   "source": [
    "#help(wavesed.plotData)"
   ]
  },
  {
   "cell_type": "code",
   "execution_count": null,
   "metadata": {},
   "outputs": [],
   "source": [
    "size = (10,10)\n",
    "# i1 = 0 \n",
    "# i2 = -1\n",
    "# j1 = 0\n",
    "# j2 = -1\n",
    "\n",
    "# Zooming to a specific region\n",
    "i1 = 80 \n",
    "i2 = 250 \n",
    "j1 = 0\n",
    "j2 = 170\n",
    "\n",
    "wavesed.plotData(data='bathy', figsize=size, vmin=-100, vmax=100, \n",
    "                 fontsize=10, stream=0, imin=i1, imax=i2, jmin=j1, jmax=j2)\n",
    "\n",
    "wavesed.plotData(data='ent', figsize=size, vmin=0., vmax=5., \n",
    "                 fontsize=10, stream=0, imin=i1, imax=i2, jmin=j1, jmax=j2)\n",
    "\n",
    "wavesed.plotData(data='dz', figsize=size, vmin=-1., vmax=1., \n",
    "                 fontsize=10, stream=0, imin=i1, imax=i2, jmin=j1, jmax=j2) #, save=outname)\n"
   ]
  },
  {
   "cell_type": "markdown",
   "metadata": {},
   "source": [
    "## <a name=\"save\"></a>  Saving wave/sedimentation data\n",
    "\n"
   ]
  },
  {
   "cell_type": "code",
   "execution_count": null,
   "metadata": {},
   "outputs": [],
   "source": [
    "#waveparams.outputCSV(filename='erodep.csv', seddata=1)"
   ]
  },
  {
   "cell_type": "markdown",
   "metadata": {},
   "source": [
    "***\n",
    "\n",
    "<div class=\"alert alert-block alert-info\">\n",
    "1- Change the initial wave direction conditions to 90 and then to 270. Evaluate the impact on the morphological patterns. \n",
    "</div>\n",
    "\n",
    "<div class=\"alert alert-block alert-info\">\n",
    "2- Change the resolution factor to see how it impacts on erosion/deposition resolution.</div>\n",
    "\n",
    "***"
   ]
  },
  {
   "cell_type": "code",
   "execution_count": null,
   "metadata": {},
   "outputs": [],
   "source": []
  }
 ],
 "metadata": {
  "kernelspec": {
   "display_name": "Python 3",
   "language": "python",
   "name": "python3"
  },
  "language_info": {
   "codemirror_mode": {
    "name": "ipython",
    "version": 3
   },
   "file_extension": ".py",
   "mimetype": "text/x-python",
   "name": "python",
   "nbconvert_exporter": "python",
   "pygments_lexer": "ipython3",
   "version": "3.6.13"
  }
 },
 "nbformat": 4,
 "nbformat_minor": 4
}
