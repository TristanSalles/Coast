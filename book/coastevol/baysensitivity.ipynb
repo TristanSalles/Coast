{
 "cells": [
  {
   "cell_type": "markdown",
   "metadata": {},
   "source": [
    "# Sensitivities of crenulate bay shorelines to wave climates \n",
    "\n",
    "_This notebook is a companion to your practical and is based on the [COVE](http://cove-model.github.io/Documentation/) one-line model._\n",
    "\n",
    "\n",
    "[COVE](http://cove-model.github.io/Documentation/) is a vector-based one-line model that we will use in the practical to explore how the wave direction $\\theta_o$ and spreading $\\theta_{std}$ is influencing shorelines evolution in embayment beaches like the ones around Sydney.\n",
    "\n",
    ":::{seealso}\n",
    "Part of the practical will require you to read through the paper from Hurst et al. (2015) available [here](https://agupubs.onlinelibrary.wiley.com/doi/full/10.1002/2015JF003704).\n",
    ":::\n",
    "\n",
    "## Running COVE\n",
    "\n",
    "The [COVE](http://cove-model.github.io/Documentation/) model needs first to be installed on your system (own computer/remote sever). To do so you will have to run the following cell.\n",
    "\n",
    ":::{note}\n",
    "The `!` in `IPython Notebook` is a command `magic` which enable you to run terminal command directly from the code cell interface.\n",
    ":::"
   ]
  },
  {
   "cell_type": "code",
   "execution_count": 2,
   "metadata": {
    "tags": [
     "hide-output"
    ]
   },
   "outputs": [],
   "source": [
    "!cd COVE/driver_files; make -f spiral_bay_make.make; mv cove ../../"
   ]
  },
  {
   "cell_type": "markdown",
   "metadata": {},
   "source": [
    "It will create an executable named `cove` that will be used to run our different experiments. \n",
    "\n",
    "To run the model, you will use the following command (don't forget to put `!` before calling the executable)."
   ]
  },
  {
   "cell_type": "code",
   "execution_count": 18,
   "metadata": {},
   "outputs": [
    {
     "name": "stdout",
     "output_type": "stream",
     "text": [
      "Program needs 6 input arguments:\t \n",
      "\t- MeanWavePeriod\n",
      "\t- StDWavePeriod\n",
      "\t- MeanWaveHeight\n",
      "\t- StDWaveHeight\n",
      "\t- MeanWaveDirection\n",
      "\t- StDWaveDirection\n"
     ]
    }
   ],
   "source": [
    "!./cove"
   ]
  },
  {
   "cell_type": "markdown",
   "metadata": {},
   "source": [
    "As shown in previous cell output the model requires 6 arguments. \n",
    "\n",
    "### Set the wave direction and spreading\n",
    "\n",
    "We will give the following values for each of them: \n",
    "- MeanWavePeriod $T_{mean}=6s$ \n",
    "- StDWavePeriod $T_{std}=1s$ \n",
    "- MeanWaveHeight $H_{mean}=1.m$ \n",
    "- StDWaveHeight $H_{std}=0.1m$\n",
    "- TimeStep $dt=0.2$ days\n",
    "- EndTime $50$ years\n",
    "\n",
    "And for this first run we will use the following value for the wave direction and spreading:\n",
    "- MeanWaveDirection $\\theta_{mean}$=$25^o$\n",
    "- StDWaveDirection $\\theta_{std}$=$10^o$"
   ]
  },
  {
   "cell_type": "code",
   "execution_count": 1,
   "metadata": {
    "tags": []
   },
   "outputs": [],
   "source": [
    "# Define wave climate params\n",
    "Tmean = 6\n",
    "Tstd = 1\n",
    "Hmean = 1.0\n",
    "Hstd = 0.1\n",
    "Theta = 25\n",
    "ThetaStd = 10\n",
    "dt = 0.2\n",
    "end = 30"
   ]
  },
  {
   "cell_type": "code",
   "execution_count": 2,
   "metadata": {
    "tags": [
     "hide-output"
    ]
   },
   "outputs": [
    {
     "name": "stdout",
     "output_type": "stream",
     "text": [
      "zsh:1: permission denied: ./cove\n"
     ]
    }
   ],
   "source": [
    "!./cove $Tmean $Tstd $Hmean $Hstd  $Theta $ThetaStd $dt $end"
   ]
  },
  {
   "cell_type": "markdown",
   "metadata": {},
   "source": [
    "\n",
    "## Plotting shoreline evolution\n",
    "\n",
    "The model results are been written on disk in a file called `Spiral_6_1_1._0.1_25_10.xy`. As you can see the output file is named based on the input parameters given for the model run.\n",
    "\n",
    "First we need to load the usually libraries (**numpy** and **matplotlib**)."
   ]
  },
  {
   "cell_type": "code",
   "execution_count": 3,
   "metadata": {},
   "outputs": [],
   "source": [
    "%matplotlib inline\n",
    "import numpy as np\n",
    "import matplotlib.pyplot as plt\n",
    "\n",
    "# Customise figure style \n",
    "from matplotlib import rc\n",
    "rc('font',size=13)\n",
    "rc('ytick.major',pad=5)\n",
    "rc('xtick.major',pad=5)\n",
    "padding = 5\n",
    "\n",
    "%config InlineBackend.figure_format = 'svg'"
   ]
  },
  {
   "cell_type": "markdown",
   "metadata": {},
   "source": [
    "### Read the output file\n",
    "\n",
    "We will now open the file and read the content:"
   ]
  },
  {
   "cell_type": "code",
   "execution_count": null,
   "metadata": {},
   "outputs": [],
   "source": [
    "# Open coastline evolution file\n",
    "filename = \"Spiral_\"+str(Tmean)+\"_\"+str(Tstd)+\"_\"+str(Hmean)+\"_\"+str(Hstd)+\"_\"+str(Theta)+\"_\"+str(ThetaStd)+\".xy\"\n",
    "\n",
    "# Read the header info and get the lines\n",
    "f = open(filename,\"r\")\n",
    "Lines = f.readlines()\n",
    "NoLines = len(Lines)-1\n",
    "Header = Lines[0]"
   ]
  },
  {
   "cell_type": "markdown",
   "metadata": {},
   "source": [
    "### Define output time to visualise\n",
    "\n",
    "The outputs are created at specific time intervals (defined in years) and we will first specified the times we want to visualise:"
   ]
  },
  {
   "cell_type": "code",
   "execution_count": 4,
   "metadata": {},
   "outputs": [
    {
     "ename": "NameError",
     "evalue": "name 'NoLines' is not defined",
     "output_type": "error",
     "traceback": [
      "\u001b[0;31m---------------------------------------------------------------------------\u001b[0m",
      "\u001b[0;31mNameError\u001b[0m                                 Traceback (most recent call last)",
      "\u001b[0;32m<ipython-input-4-e3deb821c18b>\u001b[0m in \u001b[0;36m<module>\u001b[0;34m\u001b[0m\n\u001b[1;32m      2\u001b[0m \u001b[0mTimeIntervals\u001b[0m \u001b[0;34m=\u001b[0m \u001b[0;34m[\u001b[0m\u001b[0;36m0.2\u001b[0m\u001b[0;34m,\u001b[0m\u001b[0;36m0.5\u001b[0m\u001b[0;34m,\u001b[0m\u001b[0;36m1\u001b[0m\u001b[0;34m,\u001b[0m\u001b[0;36m2\u001b[0m\u001b[0;34m,\u001b[0m\u001b[0;36m4\u001b[0m\u001b[0;34m,\u001b[0m\u001b[0;36m8\u001b[0m\u001b[0;34m,\u001b[0m\u001b[0;36m16\u001b[0m\u001b[0;34m,\u001b[0m\u001b[0;36m20\u001b[0m\u001b[0;34m,\u001b[0m\u001b[0;36m30\u001b[0m\u001b[0;34m]\u001b[0m\u001b[0;34m\u001b[0m\u001b[0;34m\u001b[0m\u001b[0m\n\u001b[1;32m      3\u001b[0m \u001b[0;34m\u001b[0m\u001b[0m\n\u001b[0;32m----> 4\u001b[0;31m \u001b[0mTime\u001b[0m \u001b[0;34m=\u001b[0m \u001b[0mnp\u001b[0m\u001b[0;34m.\u001b[0m\u001b[0mzeros\u001b[0m\u001b[0;34m(\u001b[0m\u001b[0mNoLines\u001b[0m\u001b[0;34m-\u001b[0m\u001b[0;36m1\u001b[0m\u001b[0;34m)\u001b[0m\u001b[0;34m\u001b[0m\u001b[0;34m\u001b[0m\u001b[0m\n\u001b[0m\u001b[1;32m      5\u001b[0m \u001b[0;32mfor\u001b[0m \u001b[0mi\u001b[0m \u001b[0;32min\u001b[0m \u001b[0mrange\u001b[0m\u001b[0;34m(\u001b[0m\u001b[0;36m0\u001b[0m\u001b[0;34m,\u001b[0m\u001b[0mNoLines\u001b[0m\u001b[0;34m-\u001b[0m\u001b[0;36m1\u001b[0m\u001b[0;34m,\u001b[0m\u001b[0;36m2\u001b[0m\u001b[0;34m)\u001b[0m\u001b[0;34m:\u001b[0m\u001b[0;34m\u001b[0m\u001b[0;34m\u001b[0m\u001b[0m\n\u001b[1;32m      6\u001b[0m     \u001b[0mTime\u001b[0m\u001b[0;34m[\u001b[0m\u001b[0mi\u001b[0m\u001b[0;34m]\u001b[0m \u001b[0;34m=\u001b[0m \u001b[0mfloat\u001b[0m\u001b[0;34m(\u001b[0m\u001b[0mLines\u001b[0m\u001b[0;34m[\u001b[0m\u001b[0mi\u001b[0m\u001b[0;34m+\u001b[0m\u001b[0;36m1\u001b[0m\u001b[0;34m]\u001b[0m\u001b[0;34m.\u001b[0m\u001b[0mstrip\u001b[0m\u001b[0;34m(\u001b[0m\u001b[0;34m)\u001b[0m\u001b[0;34m.\u001b[0m\u001b[0msplit\u001b[0m\u001b[0;34m(\u001b[0m\u001b[0;34m\" \"\u001b[0m\u001b[0;34m)\u001b[0m\u001b[0;34m[\u001b[0m\u001b[0;36m0\u001b[0m\u001b[0;34m]\u001b[0m\u001b[0;34m)\u001b[0m\u001b[0;34m\u001b[0m\u001b[0;34m\u001b[0m\u001b[0m\n",
      "\u001b[0;31mNameError\u001b[0m: name 'NoLines' is not defined"
     ]
    }
   ],
   "source": [
    "# Times we want to extract from the output files\n",
    "TimeIntervals = [0.2,0.5,1,2,4,8,16,20,30]\n",
    "\n",
    "Time = np.zeros(NoLines-1)\n",
    "for i in range(0,NoLines-1,2):\n",
    "    Time[i] = float(Lines[i+1].strip().split(\" \")[0])"
   ]
  },
  {
   "cell_type": "markdown",
   "metadata": {},
   "source": [
    "### Plot the results\n",
    "\n",
    "We will now plot the result the wvolution of the given bay morphology toward an equilibrium morphology between the two fixed headlands (defined as the thick black lines). \n",
    "\n",
    "The plot will show the wave conditions defined by θmean and θstd as a wave rose. \n",
    "\n",
    ":::{note}\n",
    "In the plot, model evolution starts from a straight coastline and the boundary conditions allow sediment to exit the model domain at either boundary by alongshore transport but sediment is not permitted to enter the bay from outside the domain.\n",
    ":::"
   ]
  },
  {
   "cell_type": "code",
   "execution_count": null,
   "metadata": {},
   "outputs": [],
   "source": [
    "# Define outputfile name based on theta nd thetastd values \n",
    "# (this file will be save on disk and could be used in your report)\n",
    "outputfile = \"mean\"+ str(Theta) + \"std\" + str(ThetaStd) + \".png\""
   ]
  },
  {
   "cell_type": "markdown",
   "metadata": {},
   "source": [
    "Let's make the plotting now. Each red dashed lines corresponds to a specific time interval defined by the `TimeIntervals` parameter above:"
   ]
  },
  {
   "cell_type": "code",
   "execution_count": 5,
   "metadata": {},
   "outputs": [
    {
     "ename": "NameError",
     "evalue": "name 'Lines' is not defined",
     "output_type": "error",
     "traceback": [
      "\u001b[0;31m---------------------------------------------------------------------------\u001b[0m",
      "\u001b[0;31mNameError\u001b[0m                                 Traceback (most recent call last)",
      "\u001b[0;32m<ipython-input-5-b210e5a7522a>\u001b[0m in \u001b[0;36m<module>\u001b[0;34m\u001b[0m\n\u001b[1;32m      5\u001b[0m \u001b[0;34m\u001b[0m\u001b[0m\n\u001b[1;32m      6\u001b[0m \u001b[0;31m# Get the shoreline positions\u001b[0m\u001b[0;34m\u001b[0m\u001b[0;34m\u001b[0m\u001b[0;34m\u001b[0m\u001b[0m\n\u001b[0;32m----> 7\u001b[0;31m \u001b[0mX\u001b[0m \u001b[0;34m=\u001b[0m \u001b[0mnp\u001b[0m\u001b[0;34m.\u001b[0m\u001b[0marray\u001b[0m\u001b[0;34m(\u001b[0m\u001b[0mLines\u001b[0m\u001b[0;34m[\u001b[0m\u001b[0;36m1\u001b[0m\u001b[0;34m]\u001b[0m\u001b[0;34m.\u001b[0m\u001b[0mstrip\u001b[0m\u001b[0;34m(\u001b[0m\u001b[0;34m)\u001b[0m\u001b[0;34m.\u001b[0m\u001b[0msplit\u001b[0m\u001b[0;34m(\u001b[0m\u001b[0;34m\" \"\u001b[0m\u001b[0;34m)\u001b[0m\u001b[0;34m[\u001b[0m\u001b[0;36m1\u001b[0m\u001b[0;34m:\u001b[0m\u001b[0;34m]\u001b[0m\u001b[0;34m,\u001b[0m\u001b[0mdtype\u001b[0m\u001b[0;34m=\u001b[0m\u001b[0;34m'float64'\u001b[0m\u001b[0;34m)\u001b[0m\u001b[0;34m\u001b[0m\u001b[0;34m\u001b[0m\u001b[0m\n\u001b[0m\u001b[1;32m      8\u001b[0m \u001b[0mY\u001b[0m \u001b[0;34m=\u001b[0m \u001b[0mnp\u001b[0m\u001b[0;34m.\u001b[0m\u001b[0marray\u001b[0m\u001b[0;34m(\u001b[0m\u001b[0mLines\u001b[0m\u001b[0;34m[\u001b[0m\u001b[0;36m2\u001b[0m\u001b[0;34m]\u001b[0m\u001b[0;34m.\u001b[0m\u001b[0mstrip\u001b[0m\u001b[0;34m(\u001b[0m\u001b[0;34m)\u001b[0m\u001b[0;34m.\u001b[0m\u001b[0msplit\u001b[0m\u001b[0;34m(\u001b[0m\u001b[0;34m\" \"\u001b[0m\u001b[0;34m)\u001b[0m\u001b[0;34m[\u001b[0m\u001b[0;36m1\u001b[0m\u001b[0;34m:\u001b[0m\u001b[0;34m]\u001b[0m\u001b[0;34m,\u001b[0m\u001b[0mdtype\u001b[0m\u001b[0;34m=\u001b[0m\u001b[0;34m'float64'\u001b[0m\u001b[0;34m)\u001b[0m\u001b[0;34m\u001b[0m\u001b[0;34m\u001b[0m\u001b[0m\n\u001b[1;32m      9\u001b[0m \u001b[0mplt\u001b[0m\u001b[0;34m.\u001b[0m\u001b[0mplot\u001b[0m\u001b[0;34m(\u001b[0m\u001b[0mX\u001b[0m\u001b[0;34m,\u001b[0m\u001b[0mY\u001b[0m\u001b[0;34m,\u001b[0m\u001b[0;34m'b.'\u001b[0m\u001b[0;34m,\u001b[0m\u001b[0mms\u001b[0m\u001b[0;34m=\u001b[0m\u001b[0;36m5\u001b[0m\u001b[0;34m,\u001b[0m\u001b[0mlabel\u001b[0m\u001b[0;34m=\u001b[0m\u001b[0;34m\"Initial Coastline\"\u001b[0m\u001b[0;34m)\u001b[0m\u001b[0;34m\u001b[0m\u001b[0;34m\u001b[0m\u001b[0m\n",
      "\u001b[0;31mNameError\u001b[0m: name 'Lines' is not defined"
     ]
    },
    {
     "data": {
      "text/plain": [
       "<Figure size 432x432 with 0 Axes>"
      ]
     },
     "metadata": {},
     "output_type": "display_data"
    }
   ],
   "source": [
    "# Setup the figure space, axis and line to animate\n",
    "fig = plt.figure(1, figsize=(6,6))\n",
    "plt.subplots_adjust(0.2,0.15,0.9,0.85)\n",
    "\n",
    "\n",
    "# Get the shoreline positions\n",
    "X = np.array(Lines[1].strip().split(\" \")[1:],dtype='float64')\n",
    "Y = np.array(Lines[2].strip().split(\" \")[1:],dtype='float64')\n",
    "plt.plot(X,Y,'b.',ms=5,label=\"Initial Coastline\")\n",
    "\n",
    "plt.xlabel('X-coordinate (m)')\n",
    "plt.ylabel('Y-coordinate (m)')\n",
    "\n",
    "plt.xlim(-500,2000)\n",
    "plt.ylim(-2100,0)\n",
    "\n",
    "# Loop over the chosen time intervals\n",
    "for TimeInt in TimeIntervals:\n",
    "    Diff = np.abs(Time-TimeInt)\n",
    "    Line = np.argmin(Diff)\n",
    "    Xt = np.array(Lines[Line+1].strip().split(\" \")[1:],dtype='float64')\n",
    "    Yt = np.array(Lines[Line+2].strip().split(\" \")[1:],dtype='float64')\n",
    "    plt.plot(Xt,Yt,'r--',lw=1.5)\n",
    "\n",
    "xmin = np.min(Xt)-500.\n",
    "xmax = np.max(Xt)+500\n",
    "ymin = np.min(Yt)-500.\n",
    "ymax = np.max(Yt)+500\n",
    "\n",
    "SeaX = np.append(Xt,[xmax,xmax,Xt[0]])\n",
    "SeaY = np.append(Yt,[ymin,ymax,Yt[0]])\n",
    "BeachX = np.append(Xt,[xmin,xmin,Xt[0]])\n",
    "BeachY = np.append(Yt,[ymin,ymax,Yt[0]])\n",
    "    \n",
    "plt.fill(SeaX, SeaY, color=[0.7,0.9,1.0])\n",
    "plt.fill(BeachX, BeachY, color=[1.0,0.9,0.6])\n",
    "\n",
    "plt.plot(Xt,Yt,'r--',lw=1.5,label=\"Intermediate Coastlines\")\n",
    "plt.plot(Xt,Yt,'r-',lw=2,label=\"50 Year Coastline\")\n",
    "plt.plot(Xt,Yt,'ro',ms=6)\n",
    "\n",
    "plt.plot(X[0:2],Y[0:2],'k-',lw=5)\n",
    "plt.plot(X[-2:],Y[-2:],'k-',lw=5)\n",
    "\n",
    "# Display legend\n",
    "plt.rcParams.update({'legend.labelspacing':0.1}) \n",
    "plt.rcParams.update({'legend.numpoints':2}) \n",
    "plt.rcParams.update({'legend.frameon':False}) \n",
    "plt.rcParams.update({'legend.handlelength':1.5}) \n",
    "plt.legend(loc=3)\n",
    "leg = plt.gca().get_legend()\n",
    "\n",
    "# Set fontsize to small\n",
    "ltext  = leg.get_texts()\n",
    "plt.setp(ltext, fontsize=10) \n",
    "\n",
    "# Bin all wave data\n",
    "Waves = np.random.normal(Theta,ThetaStd,10000)\n",
    "widths = 15*np.pi/180.0\n",
    "ax = plt.axes([0.65,0.55,0.25,0.25],polar=True)\n",
    "hist = np.histogram(Waves*np.pi/180.0,bins=np.arange(0,361*np.pi/180.0,widths))\n",
    "plt.bar(hist[1][:-1],hist[0],widths,color='white',edgecolor='k')\n",
    "ax.set_theta_zero_location(\"N\")\n",
    "ax.set_theta_direction(-1)\n",
    "ax.set_facecolor('none')\n",
    "plt.axis('off')\n",
    "plt.yticks([])\n",
    "plt.xticks([])\n",
    "\n",
    "plt.savefig(outputfile)\n",
    "plt.show()"
   ]
  },
  {
   "cell_type": "markdown",
   "metadata": {},
   "source": [
    "## Clean run\n",
    "\n",
    "To avoid storage of extensive data on the server delete the output file using the command `rm`. This is all right as you already have saved the model outputs as a `png` file!"
   ]
  },
  {
   "cell_type": "code",
   "execution_count": null,
   "metadata": {},
   "outputs": [],
   "source": [
    "!rm Spiral_*.xy"
   ]
  },
  {
   "cell_type": "code",
   "execution_count": null,
   "metadata": {},
   "outputs": [],
   "source": []
  }
 ],
 "metadata": {
  "kernelspec": {
   "display_name": "Python 3",
   "language": "python",
   "name": "python3"
  },
  "language_info": {
   "codemirror_mode": {
    "name": "ipython",
    "version": 3
   },
   "file_extension": ".py",
   "mimetype": "text/x-python",
   "name": "python",
   "nbconvert_exporter": "python",
   "pygments_lexer": "ipython3",
   "version": "3.6.13"
  }
 },
 "nbformat": 4,
 "nbformat_minor": 4
}
